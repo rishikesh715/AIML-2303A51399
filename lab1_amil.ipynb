{
  "nbformat": 4,
  "nbformat_minor": 0,
  "metadata": {
    "colab": {
      "provenance": [],
      "authorship_tag": "ABX9TyMIh4zyqZq6hVKLF6LIWawN",
      "include_colab_link": true
    },
    "kernelspec": {
      "name": "python3",
      "display_name": "Python 3"
    },
    "language_info": {
      "name": "python"
    }
  },
  "cells": [
    {
      "cell_type": "markdown",
      "metadata": {
        "id": "view-in-github",
        "colab_type": "text"
      },
      "source": [
        "<a href=\"https://colab.research.google.com/github/rishikesh715/AIML-2303A51399/blob/main/lab1_amil.ipynb\" target=\"_parent\"><img src=\"https://colab.research.google.com/assets/colab-badge.svg\" alt=\"Open In Colab\"/></a>"
      ]
    },
    {
      "cell_type": "code",
      "execution_count": null,
      "metadata": {
        "id": "LsYGXsyv_8Rk"
      },
      "outputs": [],
      "source": []
    },
    {
      "cell_type": "code",
      "source": [
        "import numpy as np\n",
        "list1=[1,2,3]\n",
        "array1=np.array(list1)\n",
        "array1"
      ],
      "metadata": {
        "id": "M4dUFZVCAfgj"
      },
      "execution_count": null,
      "outputs": []
    },
    {
      "cell_type": "code",
      "source": [
        "from google.colab import drive\n",
        "drive.mount('/content/drive')"
      ],
      "metadata": {
        "id": "nwbdpMs0AhGk"
      },
      "execution_count": null,
      "outputs": []
    },
    {
      "cell_type": "code",
      "source": [
        "array2=np.array([2,3,4])\n",
        "array2\n"
      ],
      "metadata": {
        "id": "BbsZVkrfAnZG"
      },
      "execution_count": null,
      "outputs": []
    },
    {
      "cell_type": "code",
      "source": [
        "print(\"adding {array1} and {array2}\",array1+array2)"
      ],
      "metadata": {
        "id": "xXK_BxSVAqJZ"
      },
      "execution_count": null,
      "outputs": []
    },
    {
      "cell_type": "code",
      "source": [
        "np.power(array1,array2)"
      ],
      "metadata": {
        "id": "R-32Y7e7Attv"
      },
      "execution_count": null,
      "outputs": []
    },
    {
      "cell_type": "code",
      "source": [
        "print(\"multiplication of {array1} and {array2} is \" ,array1*array2)"
      ],
      "metadata": {
        "id": "oDJLKm6hAxkP"
      },
      "execution_count": null,
      "outputs": []
    },
    {
      "cell_type": "code",
      "source": [
        "people= [\"prgg\",\"vvr\", \"ram\",\"funny\",\"sweety\"]\n",
        "age=[16,38,40,15,18]\n",
        "weight=[42,50,60,40,40]\n",
        "height=[100,101,102,103,105]"
      ],
      "metadata": {
        "id": "CUPCAFfKA3FW"
      },
      "execution_count": null,
      "outputs": []
    },
    {
      "cell_type": "code",
      "source": [
        "import matplotlib.pyplot as plt"
      ],
      "metadata": {
        "id": "Hm2EiO4SA56U"
      },
      "execution_count": null,
      "outputs": []
    },
    {
      "cell_type": "code",
      "source": [
        "plt.scatter(weight,height)\n",
        "plt.title(\"relationship between weight and height of people\")\n",
        "plt.ylabel(\"height in meters\")\n",
        "plt.xlabel(\"weight of people\")\n",
        "plt.show()\n"
      ],
      "metadata": {
        "id": "mBmuOKt2A6tm"
      },
      "execution_count": null,
      "outputs": []
    },
    {
      "cell_type": "code",
      "source": [
        "plt.figure(figsize=(5,4))\n",
        "plt.title(\"people's weight in kgs\", fontsize=16, fontstyle='italic')\n",
        "plt.bar(x=people,height=weight, width=0.5,color='orange',edgecolor='k', alpha=0.6)\n",
        "plt.xlabel(\"people\",fontsize=20)\n",
        "plt.ylabel(\"weight {in kgs}\", fontsize=15)\n",
        "plt.show()\n"
      ],
      "metadata": {
        "id": "Erf0m_6nA9Gd"
      },
      "execution_count": null,
      "outputs": []
    },
    {
      "cell_type": "code",
      "source": [
        "\n",
        "\n",
        "import numpy as np\n",
        "plt.figure(figsize=(7,5))\n",
        "# main plot function 'hist'\n",
        "plt.hist(weight,color='red',edgecolor='k',alpha=0.75,bins=5)\n",
        "\n",
        "plt.title(\"histogram of patient weight\",fontsize=18)\n",
        "plt.xlabel(\"weight in kgs\",fontsize=15)\n",
        "#plt.xticks(fontsize=15)\n",
        "#plt.yticks(fontsize=15)\n",
        "plt.show()"
      ],
      "metadata": {
        "id": "4_TQZcVcBBlv"
      },
      "execution_count": null,
      "outputs": []
    }
  ]
}
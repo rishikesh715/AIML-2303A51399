{
  "nbformat": 4,
  "nbformat_minor": 0,
  "metadata": {
    "colab": {
      "provenance": [],
      "authorship_tag": "ABX9TyMUEtSjeI/GmI/bf2ybJRjM",
      "include_colab_link": true
    },
    "kernelspec": {
      "name": "python3",
      "display_name": "Python 3"
    },
    "language_info": {
      "name": "python"
    }
  },
  "cells": [
    {
      "cell_type": "markdown",
      "metadata": {
        "id": "view-in-github",
        "colab_type": "text"
      },
      "source": [
        "<a href=\"https://colab.research.google.com/github/rishikesh715/AIML-2303A51399/blob/main/AMIL_A3.ipynb\" target=\"_parent\"><img src=\"https://colab.research.google.com/assets/colab-badge.svg\" alt=\"Open In Colab\"/></a>"
      ]
    },
    {
      "cell_type": "code",
      "source": [
        "from collections import namedtuple, deque, defaultdict, Counter\n",
        "import random\n",
        "import math\n",
        "import functools\n",
        "cache = functools.lru_cache(10**6)"
      ],
      "metadata": {
        "id": "9vdV4HHt-VrE"
      },
      "execution_count": 3,
      "outputs": []
    },
    {
      "cell_type": "code",
      "source": [
        "class Game:\n",
        "    def actions(self, state ):\n",
        "      #”””Return a collection of the allowable moves from this state .”””\n",
        "        raise NotImplementedError\n",
        "    def result(self, state , move ):\n",
        "#”””Return the state that results from making a move from a state .”””\n",
        "        raise NotImplementedError\n",
        "    def terminal (self, state ):\n",
        "#”””Return True i f this is a final state for the game.”””\n",
        "        return not self.actions(state)\n",
        "    def utility(self, state , player ):\n",
        "#”””Return the value of this final state to player .”””\n",
        "        raise NotImplementedError"
      ],
      "metadata": {
        "id": "Sn6ZCDul-itm"
      },
      "execution_count": 4,
      "outputs": []
    },
    {
      "cell_type": "code",
      "source": [
        "def play_game (game , strategies : dict , verbose=False ):\n",
        "#”””Play a turn−taking game. ‘strategies ‘ is a {player name: function} dict ,\n",
        "#where function(state , game) is used to get the player ’s move.”””\n",
        "    state = game.initial\n",
        "    while not game. is_terminal (state ):\n",
        "        player = state. to_move\n",
        "        move = strategies [player ](game , state)\n",
        "        state = game.result(state , move)\n",
        "        if verbose:\n",
        "            print('Player', player , 'move:', move)\n",
        "            print(state)\n",
        "    return state"
      ],
      "metadata": {
        "id": "koBwkRGI-kGM"
      },
      "execution_count": 6,
      "outputs": []
    },
    {
      "cell_type": "code",
      "source": [
        "def minimax_search (game , state ):\n",
        "#”””Search game tree to determine best move; return (value , move) pair .”””\n",
        "    player = state. to_move\n",
        "    def max_value (state ):\n",
        "        if game. is_terminal (state ):\n",
        "            return game.utility(state , player), None\n",
        "        v, move = -infinity, None\n",
        "        for a in game.actions(state):\n",
        "           v2 , = min_value (game.result(state , a))\n",
        "           if v2 > v:\n",
        "              v, move = v2 , a\n",
        "              alpha = max(alpha, v)\n",
        "        return v, move\n",
        "def min_value (state ):\n",
        "        if game. is_terminal (state ):\n",
        "         return game.utility(state , player), None\n",
        "        v, move = +infinity , None\n",
        "        for a in game.actions(state ):\n",
        "          v2 , = max_value (game.result(state , a))\n",
        "        if v2 < v:\n",
        "           v, move = v2 , a\n",
        "        return v, move\n",
        "        return max_value (state)\n",
        "infinity = math.inf"
      ],
      "metadata": {
        "id": "y4qvArhC-0e_"
      },
      "execution_count": 8,
      "outputs": []
    },
    {
      "cell_type": "code",
      "source": [
        "def alphabeta_search (game , state ):\n",
        "#”””Search game to determine best action ; use alpha−beta pruning.\n",
        "#””Search all the way to the leaves .”””\n",
        " player = state.to_move\n",
        "def max_value (state , alpha , beta ):\n",
        "  if game. is_terminal (state ):\n",
        "   return game.utility(state , player), None\n",
        "   v, move = -infinity , None\n",
        "   for a in game.actions(state ):\n",
        "    v2 , = min_value (game.result(state , a), alpha , beta)\n",
        "   if v2 > v:\n",
        "    v, move = v2 , a\n",
        "    alpha = max(alpha , v)\n",
        "   if v >= beta:\n",
        "    return v, move\n",
        "    return v, move\n",
        "def min_value (state , alpha , beta ):\n",
        " if game. terminal (state ):\n",
        "  return game.utility(state , player), None\n",
        "  v, move = +infinity , None\n",
        " for a in game.actions(state ):\n",
        "  v2 , = max_value (game.result(state , a), alpha , beta)\n",
        " if v2 < v:\n",
        "  v, move = v2 , a\n",
        "  beta = min(beta , v)\n",
        " if v <= alpha:\n",
        "  return v, move\n",
        "  return v, move\n",
        "  return max_value (state , -infinity , +infinity )"
      ],
      "metadata": {
        "id": "oi1iNVSQ-8NX"
      },
      "execution_count": 10,
      "outputs": []
    },
    {
      "cell_type": "code",
      "source": [
        "def _init_(self, height=3, width=3, k=3):\n",
        "  self.k = k # k in a row\n",
        "  self.squares = {(x, y) for x in range(width) for y in range(height)}\n",
        "  self.initial = Board(height=height , width=width , to_move='X', utility=0)\n",
        "def actions(self, board):\n",
        "  \"\"\"Legal moves are any square not yet taken.\"\"\"\n",
        "  return self.squares - set(board)\n",
        "def result(self, board , square):\n",
        "  \"\"\"Place a marker for current player on square.\"\"\"\n",
        "  player = board.to_move\n",
        "  board = board.new({square: player}, to_move =('0' if player == 'X' else 'X'))\n",
        "  win = k_in_row (board , player , square , self.k)\n",
        "  board.utility = (0 if not win else +1 if player == 'X' else -1)\n",
        "  return board\n",
        "def utility(self, board , player):\n",
        "  \"\"\"Return the value to player; 1 for win, −1 for loss , 0 otherwise.\"\"\"\n",
        "  return board.utility if player == 'X' else -board.utility\n",
        "def is_terminal(self, board):\n",
        "  \"\"\"A board is a terminal state i f i t is won or there are no empty squares.\"\"\"\n",
        "  return board.utility != 0 or len(self.squares) == len(board)\n",
        "def display(self, board): print(board)\n",
        "def k_in_row (board , player , square , k):\n",
        "  \"\"\"True i f player has k pieces in a line through square.\"\"\"\n",
        "def in_row(x, y, dx, dy):\n",
        "  return 0 if board[x, y] != player else 1 + in_row(x + dx, y + dy, dx, dy)\n",
        "  return any(in_row(*square , dx, dy) + in_row(*square , -dx, -y)-1>=k\n",
        "  for (dx, dy) in ((0, 1), (1, 0), (1, 1), (1, -1)))"
      ],
      "metadata": {
        "id": "vS4CR3Un_HT9"
      },
      "execution_count": 19,
      "outputs": []
    },
    {
      "cell_type": "code",
      "source": [
        "def _init_(self, height=3, width=3, k=3):\n",
        "  self.k = k # k in a row\n",
        "  self.squares = {(x, y) for x in range(width) for y in range(height)}\n",
        "  self.initial = Board(height=height , width=width , to_move='X', utility=0)\n",
        "def actions(self, board):\n",
        "  \"\"\"Legal moves are any square not yet taken.\"\"\"\n",
        "  return self.squares - set(board)\n",
        "def result(self, board , square):\n",
        "  \"\"\"Place a marker for current player on square.\"\"\"\n",
        "  player = board.to_move\n",
        "  board = board.new({square: player}, to_move =('0' if player == 'X' else 'X'))\n",
        "  win = k_in_row (board , player , square , self.k)\n",
        "  board.utility = (0 if not win else +1 if player == 'X' else -1)\n",
        "  return board\n",
        "def utility(self, board , player):\n",
        "  \"\"\"Return the value to player; 1 for win, −1 for loss , 0 otherwise.\"\"\"\n",
        "  return board.utility if player == 'X' else -board.utility\n",
        "def is_terminal(self, board):\n",
        "  \"\"\"A board is a terminal state i f i t is won or there are no empty squares.\"\"\"\n",
        "  return board.utility != 0 or len(self.squares) == len(board)\n",
        "def display(self, board): print(board)\n",
        "def k_in_row (board , player , square , k):\n",
        "  \"\"\"True i f player has k pieces in a line through square.\"\"\"\n",
        "def in_row(x, y, dx, dy):\n",
        "  return 0 if board[x, y] != player else 1 + in_row(x + dx, y + dy, dx, dy)\n",
        "  return any(in_row(*square , dx, dy) + in_row(*square , -dx, -y)-1>=k\n",
        "  for (dx, dy) in ((0, 1), (1, 0), (1, 1), (1, -1)))"
      ],
      "metadata": {
        "id": "P6av2pQB_TCB"
      },
      "execution_count": 24,
      "outputs": []
    }
  ]
}